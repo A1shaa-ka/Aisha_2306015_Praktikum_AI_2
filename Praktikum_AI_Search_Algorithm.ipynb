{
  "nbformat": 4,
  "nbformat_minor": 0,
  "metadata": {
    "colab": {
      "provenance": [],
      "authorship_tag": "ABX9TyO/ygjO7U3njUodd81yD4Kw",
      "include_colab_link": true
    },
    "kernelspec": {
      "name": "python3",
      "display_name": "Python 3"
    },
    "language_info": {
      "name": "python"
    }
  },
  "cells": [
    {
      "cell_type": "markdown",
      "metadata": {
        "id": "view-in-github",
        "colab_type": "text"
      },
      "source": [
        "<a href=\"https://colab.research.google.com/github/A1shaa-ka/Aisha_2306015_Praktikum_AI_2/blob/main/Praktikum_AI_Search_Algorithm.ipynb\" target=\"_parent\"><img src=\"https://colab.research.google.com/assets/colab-badge.svg\" alt=\"Open In Colab\"/></a>"
      ]
    },
    {
      "cell_type": "code",
      "execution_count": null,
      "metadata": {
        "id": "UoloeM1rK31A"
      },
      "outputs": [],
      "source": []
    },
    {
      "cell_type": "markdown",
      "source": [
        "**Depth First Search**"
      ],
      "metadata": {
        "id": "DFgQQittLa01"
      }
    },
    {
      "cell_type": "code",
      "source": [
        "from collections import defaultdict\n",
        "\n",
        "class Graph:\n",
        "  def __init__(self):\n",
        "    self.graph = defaultdict(list)\n",
        "  def addEdge(self, u, v):\n",
        "    self.graph[u].append(v)\n",
        "  def DFSUtil(self, v, visited):\n",
        "    visited.add(v)\n",
        "    print(v, end=' ')\n",
        "    for neighbour in self.graph[v]:\n",
        "      if neighbour not in visited:\n",
        "        self.DFSUtil(neighbour, visited)\n",
        "\n",
        "  def DFS(self, v):\n",
        "    visited = set()\n",
        "    self.DFSUtil(v, visited)\n",
        "\n",
        "if __name__ == \"__main__\":\n",
        "  g = Graph()\n",
        "  g.addEdge(0, 1)\n",
        "  g.addEdge(0, 2)\n",
        "  g.addEdge(1, 2)\n",
        "  g.addEdge(2, 0)\n",
        "  g.addEdge(2, 3)\n",
        "  g.addEdge(3, 3)\n",
        "\n",
        "  print(\"Berikut adalah penelusuran Depth First (dimulai dari node 2)\")\n",
        "\n",
        "  g.DFS(2)"
      ],
      "metadata": {
        "colab": {
          "base_uri": "https://localhost:8080/"
        },
        "id": "hX74bpgiLirc",
        "outputId": "f121378d-9b45-46b0-c49a-9e9e02a9c11c"
      },
      "execution_count": null,
      "outputs": [
        {
          "output_type": "stream",
          "name": "stdout",
          "text": [
            "Berikut adalah penelusuran Depth First (dimulai dari node 2)\n",
            "2 0 1 3 "
          ]
        }
      ]
    },
    {
      "cell_type": "markdown",
      "source": [
        "**Breadth First Search**"
      ],
      "metadata": {
        "id": "Zl6cIrhvQrQ9"
      }
    },
    {
      "cell_type": "code",
      "source": [
        "import collections\n",
        "\n",
        "def bfs (graph, root):\n",
        "  visited, queue = set(), collections.deque([root])\n",
        "  visited.add(root)\n",
        "\n",
        "  while queue:\n",
        "    vertex = queue.popleft()\n",
        "    print(str(vertex) + \" \", end=\" \")\n",
        "\n",
        "    for neighbour in graph [vertex]:\n",
        "      if neighbour not in visited:\n",
        "        visited.add(neighbour)\n",
        "        queue.append(neighbour)\n",
        "\n",
        "if __name__ == '__main__':\n",
        "  graph = {0: [1, 2], 1: [2], 2: [3], 3: [1, 2]}\n",
        "  print(\"Following is Breadth First Traversal: \")\n",
        "  bfs (graph, 0)"
      ],
      "metadata": {
        "colab": {
          "base_uri": "https://localhost:8080/"
        },
        "id": "VKerc2yOQxTv",
        "outputId": "499b9363-74ad-4991-b393-9006f83ae105"
      },
      "execution_count": null,
      "outputs": [
        {
          "output_type": "stream",
          "name": "stdout",
          "text": [
            "Following is Breadth First Traversal: \n",
            "0  1  2  3  "
          ]
        }
      ]
    },
    {
      "cell_type": "markdown",
      "source": [
        "**Uniform Cost Search**"
      ],
      "metadata": {
        "id": "4EmSoOMFTJ-w"
      }
    },
    {
      "cell_type": "code",
      "source": [
        "def uniform_cost_search(goal, start):\n",
        "  global graph, cost\n",
        "  answer = []\n",
        "  queue = []\n",
        "\n",
        "  for i in range(len(goal)):\n",
        "    answer.append(10**8)\n",
        "  queue.append([0, start])\n",
        "  visited = {}\n",
        "  count = 0\n",
        "  while (len(queue) > 0):\n",
        "    queue = sorted (queue)\n",
        "    p = queue[-1]\n",
        "    del queue[-1]\n",
        "    p[0] *= -1\n",
        "\n",
        "    if (p[1] in goal):\n",
        "      index= goal.index(p[1])\n",
        "      if (answer[index] == 10**8):\n",
        "        count += 1\n",
        "\n",
        "      if (answer [index] > p[0]):\n",
        "        answer [index] = p[0]\n",
        "      del queue[-1]\n",
        "\n",
        "      queue = sorted(queue)\n",
        "      if (count == len(goal)):\n",
        "          return answer\n",
        "\n",
        "      if (p[1] not in visited):\n",
        "        for i in range(len(graph[p[1]])):\n",
        "          queue.append( [(p[0] + cost[(p[1], graph[p[1]][i])])* -1, graph[p[1]][i]])\n",
        "\n",
        "      visited[p[1]] = 1\n",
        "  return answer\n",
        "\n",
        "if __name__ == '__main__':\n",
        "  graph, cost = [[] for i in range(8)], {}\n",
        "\n",
        "  graph[0].append(1)\n",
        "  graph[0].append(3)\n",
        "  graph[3].append(1)\n",
        "  graph[3].append(6)\n",
        "  graph[3].append(4)\n",
        "  graph[1].append(6)\n",
        "  graph[4].append(2)\n",
        "  graph[4].append(5)\n",
        "  graph[2].append(1)\n",
        "  graph[5].append(2)\n",
        "  graph[5].append(6)\n",
        "  graph[6].append(4)\n",
        "\n",
        "  cost[(0, 1)] = 2\n",
        "  cost[(0, 3)] = 5\n",
        "  cost[(1, 6)] = 1\n",
        "  cost[(3, 1)] = 5\n",
        "  cost[(3, 6)] = 6\n",
        "  cost[(3, 4)] = 2\n",
        "  cost[(2, 1)] = 4\n",
        "  cost[(4, 2)] = 4\n",
        "  cost[(4, 5)] = 3\n",
        "  cost[(5, 2)] = 6\n",
        "  cost[(5, 6)] = 3\n",
        "  cost[(6, 4)] = 7\n",
        "\n",
        "  goal = []\n",
        "  goal.append(6)\n",
        "\n",
        "  answer = uniform_cost_search(goal, 0)\n",
        "\n",
        "  print(\"Minimum cost from 0 to 6 is = \", answer[0])"
      ],
      "metadata": {
        "colab": {
          "base_uri": "https://localhost:8080/"
        },
        "id": "M7GsdT-7TOhL",
        "outputId": "765d1015-16b7-47fd-c17d-8082c7a6724c"
      },
      "execution_count": null,
      "outputs": [
        {
          "output_type": "stream",
          "name": "stdout",
          "text": [
            "Minimum cost from 0 to 6 is =  100000000\n"
          ]
        }
      ]
    },
    {
      "cell_type": "markdown",
      "source": [
        "**Uniform Cost Search Alternatif**"
      ],
      "metadata": {
        "id": "ifj6BLXToIpL"
      }
    },
    {
      "cell_type": "code",
      "source": [
        "import networkx as nx\n",
        "\n",
        "def uniform_cost_search_nx(graph, start, goal):\n",
        "    \"\"\"\n",
        "    Performs Uniform Cost Search on a NetworkX graph.\n",
        "\n",
        "    Args:\n",
        "        graph: A NetworkX graph object.\n",
        "        start: The starting node.\n",
        "        goal: The goal node.\n",
        "\n",
        "    Returns:\n",
        "        A tuple containing:\n",
        "            - The minimum cost to reach the goal node.\n",
        "            - The path from the start node to the goal node.\n",
        "    \"\"\"\n",
        "\n",
        "    visited = set()\n",
        "    queue = [(0, start, [])]  # (cost, node, path)\n",
        "\n",
        "    while queue:\n",
        "        cost, node, path = min(queue, key=lambda item: item[0])\n",
        "        queue.remove((cost, node, path))\n",
        "\n",
        "        if node == goal:\n",
        "            return cost, path + [node]\n",
        "\n",
        "        visited.add(node)\n",
        "\n",
        "        for neighbor in graph.neighbors(node):\n",
        "            if neighbor not in visited:\n",
        "                edge_cost = graph[node][neighbor]['weight']\n",
        "                queue.append((cost + edge_cost, neighbor, path +\n",
        "[node]))\n",
        "\n",
        "    return float('inf'), []  # Return infinity if goal is unreachable\n",
        "\n",
        "# Example usage:\n",
        "graph = nx.Graph()\n",
        "graph.add_edge(0, 1, weight=2)\n",
        "graph.add_edge(0, 3, weight=5)\n",
        "graph.add_edge(3, 1, weight=5)\n",
        "graph.add_edge(3, 6, weight=6)\n",
        "graph.add_edge(3, 4, weight=2)\n",
        "graph.add_edge(1, 6, weight=1)\n",
        "graph.add_edge(4, 5, weight=3)\n",
        "graph.add_edge(2, 5, weight=5)\n",
        "graph.add_edge(5, 6, weight=3)\n",
        "graph.add_edge(6, 4, weight=7)\n",
        "\n",
        "start_node = 0\n",
        "goal_node = 5\n",
        "\n",
        "min_cost, path = uniform_cost_search_nx(graph, start_node, goal_node)\n",
        "\n",
        "if min_cost == float('inf'):\n",
        "  print(\"Goal node is unreachable.\")\n",
        "else:\n",
        "  print(\"Minimum cost:\", min_cost)\n",
        "  print(\"Path:\", path)"
      ],
      "metadata": {
        "id": "VRlDIiteoVCF",
        "outputId": "6e4a78b8-a25a-410c-a418-fc702fcbbdf4",
        "colab": {
          "base_uri": "https://localhost:8080/"
        }
      },
      "execution_count": null,
      "outputs": [
        {
          "output_type": "stream",
          "name": "stdout",
          "text": [
            "Minimum cost: 6\n",
            "Path: [0, 1, 6, 5]\n"
          ]
        }
      ]
    },
    {
      "cell_type": "markdown",
      "source": [
        "**Greedy Search**"
      ],
      "metadata": {
        "id": "MbOQhGFvur02"
      }
    },
    {
      "cell_type": "code",
      "source": [
        "from queue import PriorityQueue\n",
        "\n",
        "def greedy_search(graph, start, goal):\n",
        "    frontier = PriorityQueue()\n",
        "    frontier.put((0, start))\n",
        "    explored = set()\n",
        "\n",
        "    while not frontier.empty():\n",
        "        current_node = frontier.get()[1]\n",
        "\n",
        "        if current_node == goal:\n",
        "            print(\"Simpul tujuan sudah ditemukan!\")\n",
        "            return True\n",
        "\n",
        "        explored.add(current_node)\n",
        "\n",
        "        for neighbor in graph[current_node]:\n",
        "            if neighbor not in explored:\n",
        "                priority = heuristic[neighbor]\n",
        "                frontier.put((priority, neighbor))\n",
        "\n",
        "    print(\"Simpul tujuan tidak ditemukan!\")\n",
        "    return False\n",
        "\n",
        "heuristic = {\n",
        "    'A': 9,\n",
        "    'B': 4,\n",
        "    'C': 2,\n",
        "    'D': 5,\n",
        "    'E': 3,\n",
        "    'S': 7,\n",
        "    'G': 0\n",
        "}\n",
        "\n",
        "graph = {\n",
        "    'S': {'A', 'E'},\n",
        "    'A': {'B', 'C'},\n",
        "    'B': {'D'},\n",
        "    'C': {'G'},\n",
        "    'D': {'G'},\n",
        "    'E': {'D'}\n",
        "}\n",
        "\n",
        "start_node = 'S'\n",
        "goal_node = 'G'\n",
        "\n",
        "greedy_search(graph, start_node, goal_node)"
      ],
      "metadata": {
        "id": "XhDfbLhPuxIa",
        "outputId": "15031548-54f2-4e6c-8a9b-a44c801c6018",
        "colab": {
          "base_uri": "https://localhost:8080/"
        }
      },
      "execution_count": 1,
      "outputs": [
        {
          "output_type": "stream",
          "name": "stdout",
          "text": [
            "Simpul tujuan sudah ditemukan!\n"
          ]
        },
        {
          "output_type": "execute_result",
          "data": {
            "text/plain": [
              "True"
            ]
          },
          "metadata": {},
          "execution_count": 1
        }
      ]
    },
    {
      "cell_type": "markdown",
      "source": [
        "**A* Tree Search**"
      ],
      "metadata": {
        "id": "MovjupH3vy_t"
      }
    },
    {
      "cell_type": "code",
      "source": [
        "from queue import PriorityQueue\n",
        "\n",
        "def a_star_search(graph, start, goal, heuristic):\n",
        "    frontier = PriorityQueue()\n",
        "    frontier.put((0, start))\n",
        "    explored = set()\n",
        "\n",
        "    while not frontier.empty():\n",
        "        current_node = frontier.get()[1]\n",
        "\n",
        "        if current_node == goal:\n",
        "            print(\"Simpul tujuan sudah ditemukan!\")\n",
        "            return True\n",
        "\n",
        "        explored.add(current_node)\n",
        "\n",
        "        for neighbor in graph[current_node]:\n",
        "            if neighbor not in explored:\n",
        "                priority = heuristic[neighbor] + graph[current_node][neighbor]\n",
        "                frontier.put((priority, neighbor))\n",
        "\n",
        "    print(\"Simpul tujuan tidak ditemukan!\")\n",
        "    return False\n",
        "\n",
        "heuristic = {\n",
        "    'A': 9,\n",
        "    'B': 4,\n",
        "    'C': 2,\n",
        "    'D': 5,\n",
        "    'E': 3,\n",
        "    'S': 7,\n",
        "    'G': 0\n",
        "}\n",
        "\n",
        "graph = {\n",
        "    'S': {'A': 3, 'E': 2},\n",
        "    'A': {'B': 3, 'C': 4},\n",
        "    'B': {'D': 5},\n",
        "    'C': {'G': 7},\n",
        "    'D': {'G': 3},\n",
        "    'E': {'D': 6}\n",
        "}\n",
        "\n",
        "start_node = 'S'\n",
        "goal_node = 'G'\n",
        "\n",
        "a_star_search(graph, start_node, goal_node, heuristic)"
      ],
      "metadata": {
        "id": "cPLS_Yvkv94y",
        "outputId": "48d8f013-8e6e-472b-af69-a5579558abae",
        "colab": {
          "base_uri": "https://localhost:8080/"
        }
      },
      "execution_count": 2,
      "outputs": [
        {
          "output_type": "stream",
          "name": "stdout",
          "text": [
            "Simpul tujuan sudah ditemukan!\n"
          ]
        },
        {
          "output_type": "execute_result",
          "data": {
            "text/plain": [
              "True"
            ]
          },
          "metadata": {},
          "execution_count": 2
        }
      ]
    },
    {
      "cell_type": "markdown",
      "source": [
        "**A* Graph Search**"
      ],
      "metadata": {
        "id": "nFqEsbB9yCt5"
      }
    },
    {
      "cell_type": "code",
      "source": [
        "from queue import PriorityQueue\n",
        "\n",
        "def a_star_search(graph, start, goal, heuristic):\n",
        "    frontier = PriorityQueue()\n",
        "    frontier.put((0, start))\n",
        "    explored = set()\n",
        "\n",
        "    while not frontier.empty():\n",
        "        _, current_node = frontier.get()\n",
        "\n",
        "        if current_node == goal:\n",
        "            print(\"Simpul tujuan sudah ditemukan!\")\n",
        "            return True\n",
        "\n",
        "        explored.add(current_node)\n",
        "\n",
        "        for neighbor in graph[current_node]:\n",
        "            cost = graph[current_node][neighbor]\n",
        "            heuristic_cost = heuristic[neighbor]\n",
        "            total_cost = cost + heuristic_cost\n",
        "            if neighbor not in explored:\n",
        "                frontier.put((total_cost, neighbor))\n",
        "\n",
        "    print(\"Simpul tujuan tidak ditemukan!\")\n",
        "    return False\n",
        "\n",
        "heuristic = {\n",
        "    'A': 9,\n",
        "    'B': 4,\n",
        "    'C': 2,\n",
        "    'D': 5,\n",
        "    'E': 3,\n",
        "    'S': 7,\n",
        "    'G': 0\n",
        "}\n",
        "\n",
        "graph = {\n",
        "    'S': {'A': 3, 'E': 2},\n",
        "    'A': {'B': 3, 'C': 4},\n",
        "    'B': {'D': 5},\n",
        "    'C': {'G': 7},\n",
        "    'D': {'G': 3},\n",
        "    'E': {'D': 6}\n",
        "}\n",
        "\n",
        "start_node = 'S'\n",
        "goal_node = 'G'\n",
        "\n",
        "a_star_search(graph, start_node, goal_node, heuristic)"
      ],
      "metadata": {
        "id": "XhycqrkgyLx6",
        "outputId": "1637df93-53f3-4c44-f03b-2232712baf53",
        "colab": {
          "base_uri": "https://localhost:8080/"
        }
      },
      "execution_count": 3,
      "outputs": [
        {
          "output_type": "stream",
          "name": "stdout",
          "text": [
            "Simpul tujuan sudah ditemukan!\n"
          ]
        },
        {
          "output_type": "execute_result",
          "data": {
            "text/plain": [
              "True"
            ]
          },
          "metadata": {},
          "execution_count": 3
        }
      ]
    }
  ]
}