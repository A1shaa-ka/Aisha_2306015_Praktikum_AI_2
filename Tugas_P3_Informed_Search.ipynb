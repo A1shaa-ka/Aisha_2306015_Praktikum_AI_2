{
  "nbformat": 4,
  "nbformat_minor": 0,
  "metadata": {
    "colab": {
      "provenance": [],
      "authorship_tag": "ABX9TyPbxCdzHzqyuu5i0WwWJAdx",
      "include_colab_link": true
    },
    "kernelspec": {
      "name": "python3",
      "display_name": "Python 3"
    },
    "language_info": {
      "name": "python"
    }
  },
  "cells": [
    {
      "cell_type": "markdown",
      "metadata": {
        "id": "view-in-github",
        "colab_type": "text"
      },
      "source": [
        "<a href=\"https://colab.research.google.com/github/A1shaa-ka/Aisha_2306015_Praktikum_AI_2/blob/main/Tugas_P3_Informed_Search.ipynb\" target=\"_parent\"><img src=\"https://colab.research.google.com/assets/colab-badge.svg\" alt=\"Open In Colab\"/></a>"
      ]
    },
    {
      "cell_type": "markdown",
      "source": [
        "**GREEDY BEST FIRST SEARCH**"
      ],
      "metadata": {
        "id": "5d9WUwl8URab"
      }
    },
    {
      "cell_type": "code",
      "source": [
        "from queue import PriorityQueue\n",
        "\n",
        "def reconstruct_path(came_from, start, goal):\n",
        "    current = goal\n",
        "    path = []\n",
        "\n",
        "    while current != start:\n",
        "        path.append(current)\n",
        "        current = came_from[current]\n",
        "\n",
        "    path.append(start)\n",
        "    path.reverse()\n",
        "    return path\n",
        "\n",
        "def greedy_search(graph, start, goal):\n",
        "    frontier = PriorityQueue()\n",
        "    frontier.put((heuristic[start], start))\n",
        "    came_from = {}\n",
        "    explored = set()\n",
        "\n",
        "    while not frontier.empty():\n",
        "        _, current_node = frontier.get()\n",
        "\n",
        "        if current_node == goal:\n",
        "            print(\"Simpul tujuan ditemukan!\")\n",
        "            path = reconstruct_path(came_from, start, goal)\n",
        "            print(\"Jalur terpendek:\", path)\n",
        "            return path\n",
        "\n",
        "        explored.add(current_node)\n",
        "\n",
        "        for neighbor in graph[current_node]:\n",
        "            if neighbor not in explored and neighbor not in came_from:\n",
        "                frontier.put((heuristic[neighbor], neighbor))\n",
        "                came_from[neighbor] = current_node\n",
        "\n",
        "    print(\"Simpul tujuan tidak ditemukan!\")\n",
        "    return None\n",
        "\n",
        "heuristic = {\n",
        "    'A': 4,\n",
        "    'B': 3,\n",
        "    'C': 3,\n",
        "    'D': 1,\n",
        "    'S': 6,\n",
        "    'G': 0\n",
        "}\n",
        "\n",
        "graph = {\n",
        "    'S': ['A', 'B'],\n",
        "    'A': ['B', 'D'],\n",
        "    'B': ['D', 'C'],\n",
        "    'C': ['D', 'G'],\n",
        "    'D': ['G'],\n",
        "}\n",
        "\n",
        "start_node = 'S'\n",
        "goal_node = 'G'\n",
        "\n",
        "greedy_search(graph, start_node, goal_node)\n"
      ],
      "metadata": {
        "id": "NOJtkchLUdAw",
        "colab": {
          "base_uri": "https://localhost:8080/"
        },
        "outputId": "7bb51405-205d-46a6-b77a-cb02521dfcd5"
      },
      "execution_count": 1,
      "outputs": [
        {
          "output_type": "stream",
          "name": "stdout",
          "text": [
            "Simpul tujuan ditemukan!\n",
            "Jalur terpendek: ['S', 'B', 'D', 'G']\n"
          ]
        },
        {
          "output_type": "execute_result",
          "data": {
            "text/plain": [
              "['S', 'B', 'D', 'G']"
            ]
          },
          "metadata": {},
          "execution_count": 1
        }
      ]
    },
    {
      "cell_type": "markdown",
      "source": [
        "**A Star Search**"
      ],
      "metadata": {
        "id": "zaUpTFykZgqn"
      }
    },
    {
      "cell_type": "code",
      "source": [
        "from queue import PriorityQueue\n",
        "from os import path\n",
        "\n",
        "def reconstruct_path(came_from, start, goal):\n",
        "    current = goal\n",
        "    route = [current]\n",
        "    while current != start:\n",
        "        current = came_from[current]\n",
        "        route.append(current)\n",
        "    route.reverse()\n",
        "    return route\n",
        "\n",
        "def greedy_search(graph, start, goal):\n",
        "    frontier = PriorityQueue()\n",
        "    frontier.put((heuristic[start], start))\n",
        "    came_from = {}\n",
        "    explored = set()\n",
        "\n",
        "    while not frontier.empty():\n",
        "        _, current_node = frontier.get()\n",
        "\n",
        "        if current_node == goal:\n",
        "            print(\"Simpul tujuan ditemukan!\")\n",
        "            path = reconstruct_path(came_from, start, goal)\n",
        "            print(\"Jalur terpendek:\", path)\n",
        "            return path\n",
        "\n",
        "        explored.add(current_node)\n",
        "\n",
        "        for neighbor in graph[current_node]:\n",
        "            if neighbor not in explored:\n",
        "                frontier.put((heuristic[neighbor], neighbor))\n",
        "                came_from[neighbor] = current_node\n",
        "\n",
        "    print(\"Simpul tujuan tidak ditemukan!\")\n",
        "    return None\n",
        "\n",
        "def a_star_search(graph, start, goal, heuristic):\n",
        "    frontier = PriorityQueue()\n",
        "    frontier.put((0, start))\n",
        "    came_from = {}\n",
        "    cost_so_far = {start: 0}\n",
        "\n",
        "    while not frontier.empty():\n",
        "        _, current_node = frontier.get()\n",
        "\n",
        "        if current_node == goal:\n",
        "            print(\"Goal node found!\")\n",
        "            path = reconstruct_path(came_from, start, goal)\n",
        "            print(\"Optimal path:\", path)\n",
        "            return path\n",
        "\n",
        "        for neighbor, cost in graph[current_node].items():\n",
        "            new_cost = cost_so_far[current_node] + cost\n",
        "            if neighbor not in cost_so_far or new_cost < cost_so_far[neighbor]:\n",
        "                cost_so_far[neighbor] = new_cost\n",
        "                priority = new_cost + heuristic[neighbor]\n",
        "                frontier.put((priority, neighbor))\n",
        "                came_from[neighbor] = current_node\n",
        "\n",
        "    print(\"Goal node not found!\")\n",
        "    return None\n",
        "\n",
        "heuristic = {\n",
        "    'A': 9,\n",
        "    'B': 4,\n",
        "    'C': 2,\n",
        "    'D': 5,\n",
        "    'E': 7,\n",
        "    'S': 7,\n",
        "    'G': 0\n",
        "}\n",
        "\n",
        "graph = {\n",
        "    'S': {'A': 3, 'B': 2},\n",
        "    'A': {'B': 1, 'D': 5},\n",
        "    'B': {'D': 3, 'C': 2},\n",
        "    'C': {'G': 4, 'D': 3},\n",
        "    'D': {'G': 5}\n",
        "}\n",
        "\n",
        "start_node = 'S'\n",
        "goal_node = 'G'\n",
        "\n",
        "print(\"Greedy Best-First Search:\")\n",
        "greedy_search(graph, start_node, goal_node)\n",
        "\n",
        "print(\"\\nA* (A Star) Search:\")\n",
        "a_star_search(graph, start_node, goal_node, heuristic)"
      ],
      "metadata": {
        "colab": {
          "base_uri": "https://localhost:8080/"
        },
        "id": "gajlTdlwZlrF",
        "outputId": "80f14f0a-11be-42bd-d14f-7265d2ea3d92"
      },
      "execution_count": 2,
      "outputs": [
        {
          "output_type": "stream",
          "name": "stdout",
          "text": [
            "Greedy Best-First Search:\n",
            "Simpul tujuan ditemukan!\n",
            "Jalur terpendek: ['S', 'B', 'C', 'G']\n",
            "\n",
            "A* (A Star) Search:\n",
            "Goal node found!\n",
            "Optimal path: ['S', 'B', 'C', 'G']\n"
          ]
        },
        {
          "output_type": "execute_result",
          "data": {
            "text/plain": [
              "['S', 'B', 'C', 'G']"
            ]
          },
          "metadata": {},
          "execution_count": 2
        }
      ]
    }
  ]
}